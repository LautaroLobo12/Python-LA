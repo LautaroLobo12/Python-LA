{
 "cells": [
  {
   "cell_type": "code",
   "execution_count": 2,
   "metadata": {},
   "outputs": [],
   "source": [
    "import numpy as np\n",
    "import numpy.linalg as la\n",
    "import matplotlib.pyplot as plt"
   ]
  },
  {
   "cell_type": "code",
   "execution_count": 5,
   "metadata": {},
   "outputs": [
    {
     "data": {
      "image/png": "[encoded data removed]",
      "text/plain": [
       "<Figure size 432x288 with 1 Axes>"
      ]
     },
     "metadata": {
      "needs_background": "light"
     },
     "output_type": "display_data"
    }
   ],
   "source": [
    "# plot the original vector v\n",
    "v1 = np.array([1, 1])\n",
    "plt.plot([0, v1[0]], [0, v1[1]], 'b', label = 'v', linewidth = 2)\n",
    "plt.plot([0, 1], [0, 0], 'r:', label = 'ihat')\n",
    "plt.plot([0, 0], [0, 1], 'r:', label = 'jhat')\n",
    "\n",
    "plt.legend()\n",
    "plt.axis('square')\n",
    "plt.axis((-0.5, 1.5, -0.5, 1.5))\n",
    "plt.grid()\n",
    "plt.show()"
   ]
  },
  {
   "cell_type": "markdown",
   "metadata": {},
   "source": [
    "Operations:\n",
    "\n",
    "* scale\n",
    "* rotate\n",
    "* shear"
   ]
  },
  {
   "cell_type": "code",
   "execution_count": 9,
   "metadata": {},
   "outputs": [
    {
     "name": "stdout",
     "output_type": "stream",
     "text": [
      "Scale:\n",
      "[[2 0]\n",
      " [0 3]]\n",
      "[2 3]\n",
      "Rotate:\n",
      "[[ 0 -1]\n",
      " [ 1  0]]\n",
      "[-1  1]\n",
      "Shear:\n",
      "[[1 1]\n",
      " [0 1]]\n",
      "[2 1]\n"
     ]
    },
    {
     "data": {
      "image/png": "[encoded data removed]",
      "text/plain": [
       "<Figure size 432x288 with 1 Axes>"
      ]
     },
     "metadata": {
      "needs_background": "light"
     },
     "output_type": "display_data"
    }
   ],
   "source": [
    "# original vector\n",
    "v1 = np.array([1, 1])\n",
    "\n",
    "# scale (different numbers along the diagonal transform matrix)\n",
    "#  0  -1\n",
    "#  1   0\n",
    "TFM_Scale = np.array([[2, 0], [0, 3]])\n",
    "v2 = TFM_Scale @ v1\n",
    "print('Scale:')\n",
    "print(TFM_Scale)\n",
    "print(v2)\n",
    "\n",
    "# rotate (90 degrees counter clockwise rotation)\n",
    "# \n",
    "#  0  -1\n",
    "#  1   0\n",
    "TFM_Rotate = np.array([[0, -1], [1, 0]])\n",
    "v3 = TFM_Rotate @ v1\n",
    "print('Rotate:')\n",
    "print(TFM_Rotate)\n",
    "print(v3)\n",
    "\n",
    "# shear (along the x axis)\n",
    "#  1  1\n",
    "#  0  1\n",
    "TFM_Shear = np.array([[1, 1], [0, 1]])\n",
    "v4 = TFM_Shear @ v1\n",
    "print('Shear:')\n",
    "print(TFM_Shear)\n",
    "print(v4)\n",
    "\n",
    "# plot the transformations\n",
    "plt.plot([0, v1[0]], [0, v1[1]], 'b', label = 'v', linewidth = 2)\n",
    "plt.plot([0, v2[0]], [0, v2[1]], 'r:', label = 'scale', linewidth = 2)\n",
    "plt.plot([0, v3[0]], [0, v3[1]], 'g:', label = 'rotate', linewidth = 2)\n",
    "plt.plot([0, v4[0]], [0, v4[1]], 'y:', label = 'shear', linewidth = 2)\n",
    "\n",
    "plt.legend()\n",
    "plt.axis('square')\n",
    "plt.axis((-2, 3, -1, 4))\n",
    "plt.grid()\n",
    "plt.show()"
   ]
  }
 ],
 "metadata": {
  "kernelspec": {
   "display_name": "Python 3",
   "language": "python",
   "name": "python3"
  },
  "language_info": {
   "codemirror_mode": {
    "name": "ipython",
    "version": 3
   },
   "file_extension": ".py",
   "mimetype": "text/x-python",
   "name": "python",
   "nbconvert_exporter": "python",
   "pygments_lexer": "ipython3",
   "version": "3.7.3"
  }
 },
 "nbformat": 4,
 "nbformat_minor": 4
}
