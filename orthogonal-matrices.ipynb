{
 "cells": [
  {
   "cell_type": "code",
   "execution_count": 1,
   "metadata": {},
   "outputs": [],
   "source": [
    "import numpy as np\n",
    "import numpy.linalg as la"
   ]
  },
  {
   "cell_type": "markdown",
   "metadata": {},
   "source": [
    "**Formalities**\n",
    "\n",
    "* An orthogonal matrix is one that the dot product of any column by itself is 1, otherwise is 0.\n",
    "* The product between the transpose of a matrix and the original matrix is equal to the identity matrix. So the inverse of any orthogonal matrix is the tranpose of that matrix."
   ]
  },
  {
   "cell_type": "code",
   "execution_count": 10,
   "metadata": {},
   "outputs": [
    {
     "name": "stdout",
     "output_type": "stream",
     "text": [
      "Matrix A\n",
      "[[ 0 -1]\n",
      " [ 1  0]]\n",
      "\n",
      "Inverse\n",
      "[[ 0.  1.]\n",
      " [-1. -0.]]\n",
      "\n",
      "Transpose\n",
      "[[ 0  1]\n",
      " [-1  0]]\n"
     ]
    }
   ],
   "source": [
    "# a pure rotation in R2 space gives an orthogonal matrix\n",
    "# note that this is a square matrix\n",
    "A = np.matrix([[0,-1], [1,0]])\n",
    "print('Matrix A')\n",
    "print(A)\n",
    "print('\\nInverse')\n",
    "print(la.inv(A))\n",
    "print('\\nTranspose')\n",
    "print(A.T)"
   ]
  },
  {
   "cell_type": "code",
   "execution_count": 11,
   "metadata": {},
   "outputs": [
    {
     "name": "stdout",
     "output_type": "stream",
     "text": [
      "AT*A and A*AT:\n",
      "[[1 0]\n",
      " [0 1]]\n",
      "[[1 0]\n",
      " [0 1]]\n",
      "\n",
      "AInv*A and A*AInv\n",
      "[[1. 0.]\n",
      " [0. 1.]]\n",
      "[[1. 0.]\n",
      " [0. 1.]]\n"
     ]
    }
   ],
   "source": [
    "# now, because this is a orthonormal square matrix...\n",
    "print('AT*A and A*AT:')\n",
    "print(A.T*A)\n",
    "print(A*A.T)\n",
    "print('\\nAInv*A and A*AInv')\n",
    "print(la.inv(A)*A)\n",
    "print(A*la.inv(A))"
   ]
  },
  {
   "cell_type": "code",
   "execution_count": 15,
   "metadata": {},
   "outputs": [
    {
     "name": "stdout",
     "output_type": "stream",
     "text": [
      "A:\n",
      "[[1 2]\n",
      " [3 4]]\n",
      "\n",
      "Q:\n",
      "[[-0.31622777 -0.9486833 ]\n",
      " [-0.9486833   0.31622777]]\n",
      "\n",
      "R:\n",
      "[[-3.16227766 -4.42718872]\n",
      " [ 0.         -0.63245553]]\n",
      "\n",
      "Q*R:\n",
      "[[1. 2.]\n",
      " [3. 4.]]\n"
     ]
    }
   ],
   "source": [
    "# use qr decomposition, A = Q*R\n",
    "A = np.matrix([[1,2], [3,4]])\n",
    "Q, R = la.qr(A)\n",
    "print('A:')\n",
    "print(A)\n",
    "print('\\nQ:')\n",
    "print(Q)\n",
    "print('\\nR:')\n",
    "print(R)\n",
    "print('\\nQ*R:')\n",
    "print(Q*R)"
   ]
  }
 ],
 "metadata": {
  "kernelspec": {
   "display_name": "Python 3",
   "language": "python",
   "name": "python3"
  },
  "language_info": {
   "codemirror_mode": {
    "name": "ipython",
    "version": 3
   },
   "file_extension": ".py",
   "mimetype": "text/x-python",
   "name": "python",
   "nbconvert_exporter": "python",
   "pygments_lexer": "ipython3",
   "version": "3.7.3"
  }
 },
 "nbformat": 4,
 "nbformat_minor": 4
}
