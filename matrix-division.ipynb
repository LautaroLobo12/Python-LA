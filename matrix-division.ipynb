{
 "cells": [
  {
   "cell_type": "code",
   "execution_count": 1,
   "metadata": {},
   "outputs": [],
   "source": [
    "import numpy as np\n",
    "import numpy.linalg as la"
   ]
  },
  {
   "cell_type": "markdown",
   "metadata": {},
   "source": [
    "**Required:**\n",
    "\n",
    "1. The divisor matrix is square\n",
    "2. The matrices must be able to be multiplied together\n",
    "3. The determinant of the divisor must be non-zero"
   ]
  },
  {
   "cell_type": "code",
   "execution_count": 2,
   "metadata": {},
   "outputs": [
    {
     "name": "stdout",
     "output_type": "stream",
     "text": [
      "-2.0\n"
     ]
    }
   ],
   "source": [
    "# generate two 2x2 matrices, A and B, so 1 and 2 are met\n",
    "# verify 3\n",
    "A = np.matrix([[1, 2], [2, 3]])\n",
    "B = np.matrix([[5, 6], [7, 8]])\n",
    "B_det = la.det(B)\n",
    "print(round(B_det))"
   ]
  },
  {
   "cell_type": "markdown",
   "metadata": {},
   "source": [
    "Manual Verification:\n",
    "\n",
    "B_det = (5 x 8) - (6 x 7) = -2"
   ]
  },
  {
   "cell_type": "code",
   "execution_count": 3,
   "metadata": {},
   "outputs": [
    {
     "name": "stdout",
     "output_type": "stream",
     "text": [
      "[[-4.   3. ]\n",
      " [ 3.5 -2.5]]\n"
     ]
    }
   ],
   "source": [
    "# invert matrix\n",
    "B_inv = la.inv(B)\n",
    "print(B_inv)"
   ]
  },
  {
   "cell_type": "markdown",
   "metadata": {},
   "source": [
    "Manual Verification:\n",
    "\n",
    "(1/*det*) x [[8, -7], [-6, 5]] = (-1/2) x [[8, -7], [-6, 5]] = [[-4, 3.5],[3, -2.5]]"
   ]
  },
  {
   "cell_type": "code",
   "execution_count": 8,
   "metadata": {},
   "outputs": [
    {
     "name": "stdout",
     "output_type": "stream",
     "text": [
      "[[1. 0.]\n",
      " [0. 1.]]\n"
     ]
    }
   ],
   "source": [
    "# verify inversion\n",
    "print(B @ B_inv)"
   ]
  },
  {
   "cell_type": "code",
   "execution_count": 9,
   "metadata": {},
   "outputs": [
    {
     "name": "stdout",
     "output_type": "stream",
     "text": [
      "[[ 3.  -2. ]\n",
      " [ 2.5 -1.5]]\n"
     ]
    }
   ],
   "source": [
    "# multiply them to finish\n",
    "print(A @ B_inv)"
   ]
  }
 ],
 "metadata": {
  "kernelspec": {
   "display_name": "Python 3",
   "language": "python",
   "name": "python3"
  },
  "language_info": {
   "codemirror_mode": {
    "name": "ipython",
    "version": 3
   },
   "file_extension": ".py",
   "mimetype": "text/x-python",
   "name": "python",
   "nbconvert_exporter": "python",
   "pygments_lexer": "ipython3",
   "version": "3.7.3"
  }
 },
 "nbformat": 4,
 "nbformat_minor": 4
}
