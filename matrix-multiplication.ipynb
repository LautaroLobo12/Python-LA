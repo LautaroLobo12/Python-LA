{
 "cells": [
  {
   "cell_type": "code",
   "execution_count": 1,
   "metadata": {},
   "outputs": [],
   "source": [
    "import numpy as np"
   ]
  },
  {
   "cell_type": "markdown",
   "metadata": {},
   "source": [
    "Required: # of columns of the first matrix = # of rows in second matrix\n",
    "\n",
    "Both A, B, must be 2x2\n",
    "\n",
    "C will have A rows and B columns"
   ]
  },
  {
   "cell_type": "code",
   "execution_count": 4,
   "metadata": {},
   "outputs": [
    {
     "name": "stdout",
     "output_type": "stream",
     "text": [
      "[[19 22]\n",
      " [43 50]]\n",
      "\n",
      "<class 'numpy.matrix'>\n"
     ]
    }
   ],
   "source": [
    "# generate 2x2 matrices A and B\n",
    "# resultant C will have A rows and B columns\n",
    "# therefore C has 2 rows and 2 columns\n",
    "A = np.matrix([[1, 2], [3, 4]])\n",
    "B = np.matrix([[5, 6], [7, 8]])\n",
    "C = A * B\n",
    "print(C)"
   ]
  },
  {
   "cell_type": "code",
   "execution_count": 6,
   "metadata": {},
   "outputs": [
    {
     "name": "stdout",
     "output_type": "stream",
     "text": [
      "[[17]\n",
      " [39]]\n"
     ]
    }
   ],
   "source": [
    "# generate a 2x2 matrix A and a vector (matrix of one column) x\n",
    "# resultant C will have A rows and x columns\n",
    "# therefore C has 2 rows and 1 column\n",
    "A = np.matrix([[1, 2], [3, 4]])\n",
    "x = np.matrix([[5], [6]])\n",
    "C = A * x\n",
    "print(C)"
   ]
  }
 ],
 "metadata": {
  "kernelspec": {
   "display_name": "Python 3",
   "language": "python",
   "name": "python3"
  },
  "language_info": {
   "codemirror_mode": {
    "name": "ipython",
    "version": 3
   },
   "file_extension": ".py",
   "mimetype": "text/x-python",
   "name": "python",
   "nbconvert_exporter": "python",
   "pygments_lexer": "ipython3",
   "version": "3.7.3"
  }
 },
 "nbformat": 4,
 "nbformat_minor": 4
}
