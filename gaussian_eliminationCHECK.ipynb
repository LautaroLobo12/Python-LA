{
 "cells": [
  {
   "cell_type": "markdown",
   "metadata": {},
   "source": [
    "Funciona con algunas matrices y con otras no (?). Parece ser que no importa si son L.I. o L.D., \n",
    "o si tienen inversa o no, si son cuadradas o no. Parece también que tiene mayor ratio de 'success' con matrices\n",
    "2x2 (las más simples de todas)."
   ]
  },
  {
   "cell_type": "code",
   "execution_count": null,
   "metadata": {},
   "outputs": [],
   "source": [
    "# importo numpy\n",
    "import numpy as np\n",
    "\n",
    "# inicializo mis variables, el usuario ingresa el tamaño de la matriz\n",
    "m=int(input('Valor de m (tamaño de la matriz): '))\n",
    "\n",
    "n=m\n",
    "\n",
    "matrix = np.zeros((m,n))\n",
    "x=np.zeros((m))\n",
    "vector=np.zeros((n))\n",
    "comp=np.zeros((m))\n",
    "error=[]\n",
    "\n",
    "print ('Método de Gauss-Seidel')\n",
    "print ('Introduce la matriz de coeficientes y el vector solución')\n",
    "for r in range(0,m):\n",
    "    for c in range(0,n):\n",
    "        matrix[(r),(c)]=float(input(\"Elemento a[\"+str(r+1)+\",\"+str(c+1)+\"] \"))\n",
    "    vector[(r)]=float(input('b['+str(r+1)+']: '))\n",
    "print (\"Método de Gauss-Seidel\")\n",
    "\n",
    "itera = int(input(\"Iteraciones: \"))\n",
    "\n",
    "k=0\n",
    "while k<itera:\n",
    "    suma=0\n",
    "    k=k+1\n",
    "    for r in range(0,m):\n",
    "        suma=0\n",
    "        for c in range(0,n):\n",
    "            if (c != r):\n",
    "                suma=suma+matrix[r,c]*x[c]               \n",
    "        x[r]=(vector[r]-suma)/matrix[r,r]\n",
    "        print(\"x[\"+str(r)+\"]: \"+str(x[r]))\n",
    "    del error[:]\n"
   ]
  }
 ],
 "metadata": {
  "kernelspec": {
   "display_name": "Python 3",
   "language": "python",
   "name": "python3"
  },
  "language_info": {
   "codemirror_mode": {
    "name": "ipython",
    "version": 3
   },
   "file_extension": ".py",
   "mimetype": "text/x-python",
   "name": "python",
   "nbconvert_exporter": "python",
   "pygments_lexer": "ipython3",
   "version": "3.7.3"
  }
 },
 "nbformat": 4,
 "nbformat_minor": 4
}
