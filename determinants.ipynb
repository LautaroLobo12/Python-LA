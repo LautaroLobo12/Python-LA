{
 "cells": [
  {
   "cell_type": "code",
   "execution_count": 1,
   "metadata": {},
   "outputs": [],
   "source": [
    "import numpy as np\n",
    "import numpy.linalg as la"
   ]
  },
  {
   "cell_type": "code",
   "execution_count": 2,
   "metadata": {},
   "outputs": [
    {
     "name": "stdout",
     "output_type": "stream",
     "text": [
      "-2.0\n"
     ]
    }
   ],
   "source": [
    "# generate a 2x2 matrix\n",
    "A = np.matrix([[1,2],[3,4]])\n",
    "# print the determinant\n",
    "print(round(la.det(A)))"
   ]
  },
  {
   "cell_type": "code",
   "execution_count": 3,
   "metadata": {},
   "outputs": [
    {
     "name": "stdout",
     "output_type": "stream",
     "text": [
      "18.0\n"
     ]
    }
   ],
   "source": [
    "# generate a 3x3 matrix\n",
    "A = np.matrix([[5,5,6],[7,9,8],[4,7,6]])\n",
    "# print the determinant\n",
    "print(round(la.det(A)))"
   ]
  },
  {
   "cell_type": "markdown",
   "metadata": {},
   "source": [
    "Our det() function can give a false positive when working with really big matrices (like 500x500 or so). That's why we introduce slogdet(), which succeeds where det() does not."
   ]
  },
  {
   "cell_type": "code",
   "execution_count": 12,
   "metadata": {},
   "outputs": [
    {
     "name": "stdout",
     "output_type": "stream",
     "text": [
      "0.0\n",
      "But thats wrong!\n",
      "(1.0, -1151.2925464970251)\n",
      "Now it's right\n",
      "0.0\n",
      "And that is the same as the wrong one.\n"
     ]
    }
   ],
   "source": [
    "print(la.det(np.eye(500)*0.1))\n",
    "print('But thats wrong!')\n",
    "print(la.slogdet(np.eye(500)*0.1))\n",
    "print('Now it\\'s right')\n",
    "sign, logdet = la.slogdet((np.eye(500)*0.1))\n",
    "print(sign * np.exp(logdet))\n",
    "print('And that is the same as the wrong one.')"
   ]
  }
 ],
 "metadata": {
  "kernelspec": {
   "display_name": "Python 3",
   "language": "python",
   "name": "python3"
  },
  "language_info": {
   "codemirror_mode": {
    "name": "ipython",
    "version": 3
   },
   "file_extension": ".py",
   "mimetype": "text/x-python",
   "name": "python",
   "nbconvert_exporter": "python",
   "pygments_lexer": "ipython3",
   "version": "3.7.3"
  }
 },
 "nbformat": 4,
 "nbformat_minor": 4
}
