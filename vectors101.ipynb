{
 "cells": [
  {
   "cell_type": "code",
   "execution_count": 4,
   "metadata": {},
   "outputs": [],
   "source": [
    "# import libs\n",
    "import numpy as np\n",
    "import numpy.linalg as la\n",
    "import matplotlib.pyplot as plt"
   ]
  },
  {
   "cell_type": "code",
   "execution_count": 3,
   "metadata": {},
   "outputs": [
    {
     "name": "stdout",
     "output_type": "stream",
     "text": [
      "Confirm 1/la.norm * la.norm = 1.0\n",
      "length of vector v: 2.8284271247461903\n",
      "Vector vunit in same direction as v: [0.70710678 0.70710678]\n",
      "dot product vunit with ihat +ve when facing same direction: 0.7071067811865475\n"
     ]
    },
    {
     "data": {
      "image/png": "[encoded data removed]",
      "text/plain": [
       "<Figure size 432x288 with 1 Axes>"
      ]
     },
     "metadata": {
      "needs_background": "light"
     },
     "output_type": "display_data"
    }
   ],
   "source": [
    "# unit basis vectores \n",
    "ihat = np.array([1,0])\n",
    "jhat = np.array([0,1])\n",
    "\n",
    "# the vector v\n",
    "v = np.array([2,2])\n",
    "\n",
    "# now we define an scalar s, such that s multiplied by the magnitud of the vector v is = to 1\n",
    "# we do this operation to create a unit vector in the same direction as the vector v\n",
    "# note that the magnitud of the vector v is ~ 2.82843 or (2*(root 2))\n",
    "len = la.norm(v)\n",
    "s = 1/la.norm(v)\n",
    "\n",
    "# we can confirm this by multiplying s by la.norm of v, thus the proof is s* la.norm(v) = 1\n",
    "check = s * la.norm(v)\n",
    "\n",
    "# now we calculate the unit vector based on the scalar computed\n",
    "vunit = v * s\n",
    "\n",
    "# dot product of vunit with unit basis vector ihat\n",
    "# this dot product is +ve when both vectors are facing the same direction\n",
    "# not using np.dot as numpy docs recommend '@' when the operators are vectors\n",
    "dp = vunit @ ihat\n",
    "\n",
    "# configure plot values, formatting, etc.\n",
    "# note that the projection of vunit on ihat is vunit @ ihat, vunit @ jhat\n",
    "# demonstrating that the dot product is the cosine between two vectors\n",
    "plt.plot([0, v[0]], [0, v[1]], 'b:', label = 'v', linewidth = 3)\n",
    "plt.plot([0, vunit[0]], [0, vunit[1]], 'r', label = 'vunit', linewidth = 3)\n",
    "plt.plot([0, 1], [0, 0], 'r:', label = 'ihat', linewidth = 4)\n",
    "plt.plot([0, 0], [0, 1], 'r:', label = 'jhat', linewidth = 4)\n",
    "plt.plot([0, vunit[0]], [0, 0], 'k', label = 'prj on x', linewidth = 2)\n",
    "plt.plot([0, 0], [0, vunit[1]], 'k', label = 'prj on y', linewidth = 2)\n",
    "\n",
    "\n",
    "# generate the plot with axis, grid, legend\n",
    "print('Confirm 1/la.norm * la.norm =', check)\n",
    "print('length of vector v:', len)\n",
    "print('Vector vunit in same direction as v:', vunit)\n",
    "print('dot product vunit with ihat +ve when facing same direction:', dp)\n",
    "plt.axis('square')\n",
    "plt.axis((-1, 3, -1, 3))\n",
    "plt.grid()\n",
    "plt.legend()\n",
    "plt.show()"
   ]
  }
 ],
 "metadata": {
  "kernelspec": {
   "display_name": "Python 3",
   "language": "python",
   "name": "python3"
  },
  "language_info": {
   "codemirror_mode": {
    "name": "ipython",
    "version": 3
   },
   "file_extension": ".py",
   "mimetype": "text/x-python",
   "name": "python",
   "nbconvert_exporter": "python",
   "pygments_lexer": "ipython3",
   "version": "3.7.3"
  }
 },
 "nbformat": 4,
 "nbformat_minor": 4
}
